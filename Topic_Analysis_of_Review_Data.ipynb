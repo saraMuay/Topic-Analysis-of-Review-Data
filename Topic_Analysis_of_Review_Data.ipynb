{
  "nbformat": 4,
  "nbformat_minor": 0,
  "metadata": {
    "colab": {
      "name": "Topic Analysis of Review Data.ipynb",
      "provenance": [],
      "toc_visible": true,
      "authorship_tag": "ABX9TyMJ0Pb5DzX/Uf1nXCoFpdiH",
      "include_colab_link": true
    },
    "kernelspec": {
      "name": "python3",
      "display_name": "Python 3"
    },
    "language_info": {
      "name": "python"
    }
  },
  "cells": [
    {
      "cell_type": "markdown",
      "metadata": {
        "id": "view-in-github",
        "colab_type": "text"
      },
      "source": [
        "<a href=\"https://colab.research.google.com/github/saraMuay/Topic-Analysis-of-Review-Data/blob/main/Topic_Analysis_of_Review_Data.ipynb\" target=\"_parent\"><img src=\"https://colab.research.google.com/assets/colab-badge.svg\" alt=\"Open In Colab\"/></a>"
      ]
    },
    {
      "cell_type": "code",
      "metadata": {
        "id": "Du6OmSgsgKwv"
      },
      "source": [
        "!pip install pyLDAvis\n",
        "!pip install NLTK"
      ],
      "execution_count": null,
      "outputs": []
    },
    {
      "cell_type": "code",
      "metadata": {
        "id": "EOTmPdQk33u9",
        "colab": {
          "base_uri": "https://localhost:8080/"
        },
        "outputId": "52a91650-0720-4349-bb84-ea302de677e0"
      },
      "source": [
        "import pandas as pd\n",
        "import numpy as np\n",
        "import nltk\n",
        "from nltk.tokenize import word_tokenize, sent_tokenize\n",
        "from nltk.tag import pos_tag\n",
        "from nltk.stem import WordNetLemmatizer \n",
        "from nltk.corpus import stopwords\n",
        "import re\n",
        "import string\n",
        "from pprint import pprint\n",
        "\n",
        "import gensim\n",
        "import gensim.corpora as corpora\n",
        "from gensim.utils import simple_preprocess\n",
        "from gensim.models import CoherenceModel\n",
        "\n",
        "import pyLDAvis\n",
        "import pyLDAvis.gensim_models as gan\n",
        "import matplotlib.pyplot as plt\n",
        "\n",
        "import warnings \n",
        "\n",
        "warnings.filterwarnings('ignore') \n",
        "%matplotlib inline"
      ],
      "execution_count": 2,
      "outputs": [
        {
          "output_type": "stream",
          "text": [
            "/usr/local/lib/python3.7/dist-packages/past/types/oldstr.py:5: DeprecationWarning: Using or importing the ABCs from 'collections' instead of from 'collections.abc' is deprecated since Python 3.3,and in 3.9 it will stop working\n",
            "  from collections import Iterable\n"
          ],
          "name": "stderr"
        }
      ]
    },
    {
      "cell_type": "code",
      "metadata": {
        "id": "sDYkaIcXBQz-"
      },
      "source": [
        "nltk.download('all')"
      ],
      "execution_count": null,
      "outputs": []
    },
    {
      "cell_type": "markdown",
      "metadata": {
        "id": "9beQJj9OXQki"
      },
      "source": [
        "Read the .csv file using Pandas. Take a look at the top few records."
      ]
    },
    {
      "cell_type": "code",
      "metadata": {
        "colab": {
          "base_uri": "https://localhost:8080/"
        },
        "id": "9HFywN3Gf_5T",
        "outputId": "165a1a41-f9f2-4590-f978-295f3e5b2e9f"
      },
      "source": [
        "!git clone https://github.com/saraMuay/Topic-Analysis-of-Review-Data.git\n"
      ],
      "execution_count": 4,
      "outputs": [
        {
          "output_type": "stream",
          "text": [
            "Cloning into 'Topic-Analysis-of-Review-Data'...\n",
            "remote: Enumerating objects: 3, done.\u001b[K\n",
            "remote: Counting objects: 100% (3/3), done.\u001b[K\n",
            "remote: Compressing objects: 100% (2/2), done.\u001b[K\n",
            "remote: Total 3 (delta 0), reused 0 (delta 0), pack-reused 0\u001b[K\n",
            "Unpacking objects: 100% (3/3), done.\n"
          ],
          "name": "stdout"
        }
      ]
    },
    {
      "cell_type": "code",
      "metadata": {
        "id": "OhO4oqi8g57u",
        "colab": {
          "base_uri": "https://localhost:8080/"
        },
        "outputId": "801ab7f0-dadd-4fd8-92f0-ba141ba6290a"
      },
      "source": [
        "Data = pd.read_csv('https://raw.githubusercontent.com/saraMuay/Topic-Analysis-of-Review-Data/main/K8%20Reviews%20v0.2.csv' )\n",
        "print(Data.head())"
      ],
      "execution_count": 5,
      "outputs": [
        {
          "output_type": "stream",
          "text": [
            "   sentiment                                             review\n",
            "0          1             Good but need updates and improvements\n",
            "1          0  Worst mobile i have bought ever, Battery is dr...\n",
            "2          1  when I will get my 10% cash back.... its alrea...\n",
            "3          1                                               Good\n",
            "4          0  The worst phone everThey have changed the last...\n"
          ],
          "name": "stdout"
        }
      ]
    },
    {
      "cell_type": "markdown",
      "metadata": {
        "id": "GoP4RYg-XK-C"
      },
      "source": [
        "Normalize casings for the review text and extract the text into a list for easier manipulation."
      ]
    },
    {
      "cell_type": "code",
      "metadata": {
        "id": "A2o10s-hiVS9"
      },
      "source": [
        "def NormalizeCasings(review):\n",
        "    Reviews = []\n",
        "    for i in review:\n",
        "      Reviews.append(i.lower())\n",
        "        \n",
        "    return Reviews"
      ],
      "execution_count": 6,
      "outputs": []
    },
    {
      "cell_type": "code",
      "metadata": {
        "colab": {
          "base_uri": "https://localhost:8080/"
        },
        "id": "hIgvi1U8mWep",
        "outputId": "a9aeb409-a712-4ca6-8015-4d557a23c466"
      },
      "source": [
        "Normalized = NormalizeCasings(Data['review'])\n",
        "Normalized[0:10]"
      ],
      "execution_count": 32,
      "outputs": [
        {
          "output_type": "execute_result",
          "data": {
            "text/plain": [
              "['good but need updates and improvements',\n",
              " \"worst mobile i have bought ever, battery is draining like hell, backup is only 6 to 7 hours with internet uses, even if i put mobile idle its getting discharged.this is biggest lie from amazon & lenove which is not at all expected, they are making full by saying that battery is 4000mah & booster charger is fake, it takes at least 4 to 5 hours to be fully charged.don't know how lenovo will survive by making full of us.please don;t go for this else you will regret like me.\",\n",
              " 'when i will get my 10% cash back.... its already 15 january..',\n",
              " 'good',\n",
              " 'the worst phone everthey have changed the last phone but the problem is still same and the amazon is not returning the phone .highly disappointing of amazon',\n",
              " \"only i'm telling don't buyi'm totally disappointedpoor batterypoor camerawaste of money\",\n",
              " 'phone is awesome. but while charging, it heats up allot..really a genuine reason to hate lenovo k8 note',\n",
              " 'the battery level has worn down',\n",
              " \"it's over hitting problems...and phone hanging problems lenovo k 8 note...so where is service station in ahmedabad it's one years warranty so it's can change the phone by lenovo\",\n",
              " 'a lot of glitches dont buy this thing better go for some other options']"
            ]
          },
          "metadata": {
            "tags": []
          },
          "execution_count": 32
        }
      ]
    },
    {
      "cell_type": "markdown",
      "metadata": {
        "id": "u7YlQyEGXdyM"
      },
      "source": [
        "- Tokenize the reviews using NLTKs word_tokenize function.\n",
        "\n",
        "- Perform parts-of-speech tagging on each sentence using the NLTK POS tagger.\n",
        "\n",
        "- For the topic model, we should  want to include only nouns.\n",
        "\n",
        "   - Find out all the POS tags that correspond to nouns.\n",
        "   - Limit the data to only terms with these tags."
      ]
    },
    {
      "cell_type": "code",
      "metadata": {
        "id": "_2bAW5wfjoPo"
      },
      "source": [
        "def Tokenize(review):\n",
        "    Reviews = []\n",
        "    for i in range(len(review)):\n",
        "      TokenToWord = nltk.word_tokenize(review[i])\n",
        "      TagPos = nltk.pos_tag(TokenToWord)\n",
        "\n",
        "      for word, pos in TagPos:\n",
        "        if (pos == 'NN' or pos == 'NNP' or pos == 'NNS' or pos == 'NNPS'):\n",
        "                Reviews.append(review[i])   \n",
        "    return Reviews \n"
      ],
      "execution_count": 8,
      "outputs": []
    },
    {
      "cell_type": "code",
      "metadata": {
        "colab": {
          "base_uri": "https://localhost:8080/"
        },
        "id": "bCr0WpyvZ85_",
        "outputId": "fe860d7c-fb02-4571-b9e2-6e4e4077b748"
      },
      "source": [
        "Tokenizing = Tokenize(Normalized)\n",
        "Tokenizing[0:10]"
      ],
      "execution_count": 33,
      "outputs": [
        {
          "output_type": "execute_result",
          "data": {
            "text/plain": [
              "['good but need updates and improvements',\n",
              " 'good but need updates and improvements',\n",
              " \"worst mobile i have bought ever, battery is draining like hell, backup is only 6 to 7 hours with internet uses, even if i put mobile idle its getting discharged.this is biggest lie from amazon & lenove which is not at all expected, they are making full by saying that battery is 4000mah & booster charger is fake, it takes at least 4 to 5 hours to be fully charged.don't know how lenovo will survive by making full of us.please don;t go for this else you will regret like me.\",\n",
              " \"worst mobile i have bought ever, battery is draining like hell, backup is only 6 to 7 hours with internet uses, even if i put mobile idle its getting discharged.this is biggest lie from amazon & lenove which is not at all expected, they are making full by saying that battery is 4000mah & booster charger is fake, it takes at least 4 to 5 hours to be fully charged.don't know how lenovo will survive by making full of us.please don;t go for this else you will regret like me.\",\n",
              " \"worst mobile i have bought ever, battery is draining like hell, backup is only 6 to 7 hours with internet uses, even if i put mobile idle its getting discharged.this is biggest lie from amazon & lenove which is not at all expected, they are making full by saying that battery is 4000mah & booster charger is fake, it takes at least 4 to 5 hours to be fully charged.don't know how lenovo will survive by making full of us.please don;t go for this else you will regret like me.\",\n",
              " \"worst mobile i have bought ever, battery is draining like hell, backup is only 6 to 7 hours with internet uses, even if i put mobile idle its getting discharged.this is biggest lie from amazon & lenove which is not at all expected, they are making full by saying that battery is 4000mah & booster charger is fake, it takes at least 4 to 5 hours to be fully charged.don't know how lenovo will survive by making full of us.please don;t go for this else you will regret like me.\",\n",
              " \"worst mobile i have bought ever, battery is draining like hell, backup is only 6 to 7 hours with internet uses, even if i put mobile idle its getting discharged.this is biggest lie from amazon & lenove which is not at all expected, they are making full by saying that battery is 4000mah & booster charger is fake, it takes at least 4 to 5 hours to be fully charged.don't know how lenovo will survive by making full of us.please don;t go for this else you will regret like me.\",\n",
              " \"worst mobile i have bought ever, battery is draining like hell, backup is only 6 to 7 hours with internet uses, even if i put mobile idle its getting discharged.this is biggest lie from amazon & lenove which is not at all expected, they are making full by saying that battery is 4000mah & booster charger is fake, it takes at least 4 to 5 hours to be fully charged.don't know how lenovo will survive by making full of us.please don;t go for this else you will regret like me.\",\n",
              " \"worst mobile i have bought ever, battery is draining like hell, backup is only 6 to 7 hours with internet uses, even if i put mobile idle its getting discharged.this is biggest lie from amazon & lenove which is not at all expected, they are making full by saying that battery is 4000mah & booster charger is fake, it takes at least 4 to 5 hours to be fully charged.don't know how lenovo will survive by making full of us.please don;t go for this else you will regret like me.\",\n",
              " \"worst mobile i have bought ever, battery is draining like hell, backup is only 6 to 7 hours with internet uses, even if i put mobile idle its getting discharged.this is biggest lie from amazon & lenove which is not at all expected, they are making full by saying that battery is 4000mah & booster charger is fake, it takes at least 4 to 5 hours to be fully charged.don't know how lenovo will survive by making full of us.please don;t go for this else you will regret like me.\"]"
            ]
          },
          "metadata": {
            "tags": []
          },
          "execution_count": 33
        }
      ]
    },
    {
      "cell_type": "code",
      "metadata": {
        "colab": {
          "base_uri": "https://localhost:8080/"
        },
        "id": "0cTZbTXRkTZn",
        "outputId": "0dbec299-2a8b-4e1f-a913-ff8333d2cd8c"
      },
      "source": [
        "UniqeTokenizing = [] \n",
        "for i in Tokenizing:\n",
        "  if i not in UniqeTokenizing:\n",
        "      UniqeTokenizing.append(i)\n",
        "\n",
        "print ( 'Tokenizing', len(Tokenizing))\n",
        "print ( 'UniqeTokenizing', len(UniqeTokenizing))\n",
        "UniqeTokenizing[0:10]"
      ],
      "execution_count": 34,
      "outputs": [
        {
          "output_type": "stream",
          "text": [
            "Tokenizing 90723\n",
            "UniqeTokenizing 12384\n"
          ],
          "name": "stdout"
        },
        {
          "output_type": "execute_result",
          "data": {
            "text/plain": [
              "['good but need updates and improvements',\n",
              " \"worst mobile i have bought ever, battery is draining like hell, backup is only 6 to 7 hours with internet uses, even if i put mobile idle its getting discharged.this is biggest lie from amazon & lenove which is not at all expected, they are making full by saying that battery is 4000mah & booster charger is fake, it takes at least 4 to 5 hours to be fully charged.don't know how lenovo will survive by making full of us.please don;t go for this else you will regret like me.\",\n",
              " 'when i will get my 10% cash back.... its already 15 january..',\n",
              " 'the worst phone everthey have changed the last phone but the problem is still same and the amazon is not returning the phone .highly disappointing of amazon',\n",
              " \"only i'm telling don't buyi'm totally disappointedpoor batterypoor camerawaste of money\",\n",
              " 'phone is awesome. but while charging, it heats up allot..really a genuine reason to hate lenovo k8 note',\n",
              " 'the battery level has worn down',\n",
              " \"it's over hitting problems...and phone hanging problems lenovo k 8 note...so where is service station in ahmedabad it's one years warranty so it's can change the phone by lenovo\",\n",
              " 'a lot of glitches dont buy this thing better go for some other options',\n",
              " 'wrost']"
            ]
          },
          "metadata": {
            "tags": []
          },
          "execution_count": 34
        }
      ]
    },
    {
      "cell_type": "markdown",
      "metadata": {
        "id": "ZOImRF7qTCUJ"
      },
      "source": [
        " Remove stopwords and punctuation"
      ]
    },
    {
      "cell_type": "code",
      "metadata": {
        "id": "xpCQr-GKl-J9"
      },
      "source": [
        "for i in range (len(UniqeTokenizing)):\n",
        "  UniqeTokenizing[i] = re.sub('[%s]' % re.escape(string.punctuation), '',UniqeTokenizing[i])   # Removing punctuations marks\n",
        "  lemmatizer = WordNetLemmatizer()\n",
        "  UniqeTokenizing[i]= lemmatizer.lemmatize(UniqeTokenizing[i]) "
      ],
      "execution_count": 12,
      "outputs": []
    },
    {
      "cell_type": "code",
      "metadata": {
        "id": "Kai_iCfGoJ9k"
      },
      "source": [
        "def Remove_Stopwords(review):\n",
        "  for i in range(len(review)):\n",
        "    words = nltk.word_tokenize(review[i])                                 \n",
        "    words = [x for x in words if x not in stopwords.words('english')] \n",
        "    review[i] = ' '.join(words)\n",
        "    \n",
        "    return review"
      ],
      "execution_count": 13,
      "outputs": []
    },
    {
      "cell_type": "code",
      "metadata": {
        "colab": {
          "base_uri": "https://localhost:8080/"
        },
        "id": "nYMYDzXFoV-q",
        "outputId": "195c3bfc-2a1e-4e23-85a1-acdc576912d0"
      },
      "source": [
        "PreProcessReviews = Remove_Stopwords (UniqeTokenizing)\n",
        "PreProcessReviews[0:10]"
      ],
      "execution_count": 35,
      "outputs": [
        {
          "output_type": "execute_result",
          "data": {
            "text/plain": [
              "['good need updates improvements',\n",
              " \"worst mobile i have bought ever, battery is draining like hell, backup is only 6 to 7 hours with internet uses, even if i put mobile idle its getting discharged.this is biggest lie from amazon & lenove which is not at all expected, they are making full by saying that battery is 4000mah & booster charger is fake, it takes at least 4 to 5 hours to be fully charged.don't know how lenovo will survive by making full of us.please don;t go for this else you will regret like me.\",\n",
              " 'when i will get my 10% cash back.... its already 15 january..',\n",
              " 'the worst phone everthey have changed the last phone but the problem is still same and the amazon is not returning the phone .highly disappointing of amazon',\n",
              " \"only i'm telling don't buyi'm totally disappointedpoor batterypoor camerawaste of money\",\n",
              " 'phone is awesome. but while charging, it heats up allot..really a genuine reason to hate lenovo k8 note',\n",
              " 'the battery level has worn down',\n",
              " \"it's over hitting problems...and phone hanging problems lenovo k 8 note...so where is service station in ahmedabad it's one years warranty so it's can change the phone by lenovo\",\n",
              " 'a lot of glitches dont buy this thing better go for some other options',\n",
              " 'wrost']"
            ]
          },
          "metadata": {
            "tags": []
          },
          "execution_count": 35
        }
      ]
    },
    {
      "cell_type": "markdown",
      "metadata": {
        "id": "6Zn8fsDWu41t"
      },
      "source": [
        "Lemmatize. "
      ]
    },
    {
      "cell_type": "code",
      "metadata": {
        "id": "gBQ2HztESdYD"
      },
      "source": [
        "  lemmatizer = WordNetLemmatizer()\n",
        "  for i in range (len(PreProcessReviews)):\n",
        "    PreProcessReviews[i] = lemmatizer.lemmatize(PreProcessReviews[i])"
      ],
      "execution_count": 16,
      "outputs": []
    },
    {
      "cell_type": "code",
      "metadata": {
        "id": "M74ttsBcl3Tp",
        "colab": {
          "base_uri": "https://localhost:8080/"
        },
        "outputId": "9c9daa67-b113-490c-f852-393eb35384e0"
      },
      "source": [
        "PreProcessReviews[0:10]"
      ],
      "execution_count": 36,
      "outputs": [
        {
          "output_type": "execute_result",
          "data": {
            "text/plain": [
              "['good need updates improvements',\n",
              " \"worst mobile i have bought ever, battery is draining like hell, backup is only 6 to 7 hours with internet uses, even if i put mobile idle its getting discharged.this is biggest lie from amazon & lenove which is not at all expected, they are making full by saying that battery is 4000mah & booster charger is fake, it takes at least 4 to 5 hours to be fully charged.don't know how lenovo will survive by making full of us.please don;t go for this else you will regret like me.\",\n",
              " 'when i will get my 10% cash back.... its already 15 january..',\n",
              " 'the worst phone everthey have changed the last phone but the problem is still same and the amazon is not returning the phone .highly disappointing of amazon',\n",
              " \"only i'm telling don't buyi'm totally disappointedpoor batterypoor camerawaste of money\",\n",
              " 'phone is awesome. but while charging, it heats up allot..really a genuine reason to hate lenovo k8 note',\n",
              " 'the battery level has worn down',\n",
              " \"it's over hitting problems...and phone hanging problems lenovo k 8 note...so where is service station in ahmedabad it's one years warranty so it's can change the phone by lenovo\",\n",
              " 'a lot of glitches dont buy this thing better go for some other options',\n",
              " 'wrost']"
            ]
          },
          "metadata": {
            "tags": []
          },
          "execution_count": 36
        }
      ]
    },
    {
      "cell_type": "markdown",
      "metadata": {
        "id": "t9t09WY7u8ah"
      },
      "source": [
        "Create a topic model using LDA on the cleaned-up data with 12 topics"
      ]
    },
    {
      "cell_type": "code",
      "metadata": {
        "id": "EuSgSg1Gl6gZ"
      },
      "source": [
        "TokenizeReviews = []\n",
        "for i in PreProcessReviews:\n",
        "    TokenizeReviews.append(nltk.word_tokenize(i)) \n",
        "\n",
        "WordID = corpora.Dictionary(TokenizeReviews)\n",
        "corpus = [WordID.doc2bow(text) for text in TokenizeReviews]\n"
      ],
      "execution_count": 18,
      "outputs": []
    },
    {
      "cell_type": "code",
      "metadata": {
        "colab": {
          "base_uri": "https://localhost:8080/"
        },
        "id": "RylgJRz90Fvu",
        "outputId": "fc29cb5b-aa14-4712-c3eb-14d73f71bd3a"
      },
      "source": [
        "print('corpus : ',corpus[:1])\n",
        "print('WordID : ',WordID[0])\n",
        "\n",
        "CountFreq = [[(WordID[id], freq) for id, freq in cp] for cp in corpus]\n",
        "CountFreq[:1]"
      ],
      "execution_count": 22,
      "outputs": [
        {
          "output_type": "stream",
          "text": [
            "corpus :  [[(0, 1), (1, 1), (2, 1), (3, 1)]]\n",
            "WordID :  good\n"
          ],
          "name": "stdout"
        },
        {
          "output_type": "execute_result",
          "data": {
            "text/plain": [
              "[[('good', 1), ('improvements', 1), ('need', 1), ('updates', 1)]]"
            ]
          },
          "metadata": {
            "tags": []
          },
          "execution_count": 22
        }
      ]
    },
    {
      "cell_type": "code",
      "metadata": {
        "id": "2yZEXdMNeWFT"
      },
      "source": [
        "LDA_Model = gensim.models.ldamodel.LdaModel(corpus=corpus,id2word=WordID,num_topics=12,random_state=100,\n",
        "                                           update_every=1,chunksize=100,passes=10,alpha='auto',per_word_topics=True)"
      ],
      "execution_count": 23,
      "outputs": []
    },
    {
      "cell_type": "code",
      "metadata": {
        "colab": {
          "base_uri": "https://localhost:8080/"
        },
        "id": "8XJUYsvHN86n",
        "outputId": "f6528bca-d028-466f-ae20-310a04a0ea91"
      },
      "source": [
        "# Print out the top terms for each topic.\n",
        "pprint(LDA_Model.print_topics())"
      ],
      "execution_count": 24,
      "outputs": [
        {
          "output_type": "stream",
          "text": [
            "[(0,\n",
            "  '0.114*\"lenovo\" + 0.080*\"note\" + 0.064*\"k8\" + 0.029*\"which\" + 0.023*\"do\" + '\n",
            "  '0.020*\"off\" + 0.018*\"phones\" + 0.016*\"heats\" + 0.015*\"dolby\" + '\n",
            "  '0.015*\"feature\"'),\n",
            " (1,\n",
            "  '0.041*\"got\" + 0.041*\"excellent\" + 0.029*\"speed\" + 0.026*\"should\" + '\n",
            "  '0.022*\"experience\" + 0.020*\"video\" + 0.019*\"found\" + 0.017*\"till\" + '\n",
            "  '0.017*\"again\" + 0.017*\"down\"'),\n",
            " (2,\n",
            "  '0.139*\"battery\" + 0.049*\"charging\" + 0.046*\"nice\" + 0.033*\"fast\" + '\n",
            "  '0.029*\"by\" + 0.024*\"getting\" + 0.019*\"4\" + 0.017*\"full\" + 0.016*\"work\" + '\n",
            "  '0.015*\"hours\"'),\n",
            " (3,\n",
            "  '0.126*\"mobile\" + 0.101*\"product\" + 0.069*\"buy\" + 0.056*\"dont\" + '\n",
            "  '0.050*\"worst\" + 0.050*\"bad\" + 0.046*\"amazon\" + 0.039*\"awesome\" + '\n",
            "  '0.016*\"delivery\" + 0.015*\"ever\"'),\n",
            " (4,\n",
            "  '0.070*\"the\" + 0.059*\"and\" + 0.051*\"to\" + 0.042*\"it\" + 0.042*\"this\" + '\n",
            "  '0.036*\"for\" + 0.035*\"a\" + 0.030*\"of\" + 0.028*\"in\" + 0.027*\"with\"'),\n",
            " (5,\n",
            "  '0.181*\"is\" + 0.092*\"phone\" + 0.084*\"not\" + 0.083*\"good\" + 0.058*\"very\" + '\n",
            "  '0.056*\"camera\" + 0.038*\"but\" + 0.024*\"quality\" + 0.022*\"in\" + '\n",
            "  '0.021*\"heating\"'),\n",
            " (6,\n",
            "  '0.054*\"days\" + 0.029*\"want\" + 0.024*\"satisfied\" + 0.023*\"hai\" + '\n",
            "  '0.022*\"fine\" + 0.021*\"glass\" + 0.019*\"clarity\" + 0.015*\"gorilla\" + '\n",
            "  '0.014*\"ho\" + 0.010*\"cost\"'),\n",
            " (7,\n",
            "  '0.056*\"working\" + 0.052*\"not\" + 0.042*\"you\" + 0.042*\"one\" + 0.042*\"up\" + '\n",
            "  '0.031*\"or\" + 0.028*\"use\" + 0.026*\"dual\" + 0.023*\"more\" + 0.021*\"charger\"'),\n",
            " (8,\n",
            "  '0.049*\"service\" + 0.037*\"please\" + 0.036*\"u\" + 0.034*\"3\" + 0.034*\"months\" + '\n",
            "  '0.029*\"within\" + 0.024*\"handset\" + 0.023*\"hanging\" + 0.022*\"month\" + '\n",
            "  '0.021*\"value\"'),\n",
            " (9,\n",
            "  '0.180*\"i\" + 0.053*\"my\" + 0.027*\"am\" + 0.027*\"will\" + 0.025*\"using\" + '\n",
            "  '0.025*\"when\" + 0.023*\"get\" + 0.021*\"charge\" + 0.020*\"me\" + 0.017*\"heat\"'),\n",
            " (10,\n",
            "  '0.106*\"problem\" + 0.055*\"some\" + 0.048*\"network\" + 0.039*\"low\" + '\n",
            "  '0.024*\"bit\" + 0.020*\"lot\" + 0.017*\"little\" + 0.017*\"normal\" + '\n",
            "  '0.016*\"playing\" + 0.016*\"heavy\"'),\n",
            " (11,\n",
            "  '0.080*\"no\" + 0.050*\"poor\" + 0.043*\"screen\" + 0.029*\"call\" + 0.024*\"day\" + '\n",
            "  '0.023*\"mode\" + 0.021*\"display\" + 0.020*\"doesnt\" + 0.019*\"drains\" + '\n",
            "  '0.019*\"ok\"')]\n"
          ],
          "name": "stdout"
        }
      ]
    },
    {
      "cell_type": "code",
      "metadata": {
        "id": "M7eFIM_dN83S"
      },
      "source": [
        "doc = LDA_Model[corpus]"
      ],
      "execution_count": 25,
      "outputs": []
    },
    {
      "cell_type": "code",
      "metadata": {
        "colab": {
          "base_uri": "https://localhost:8080/"
        },
        "id": "a9Rjt-M4c-6Y",
        "outputId": "50cf414e-4205-428e-90bf-1c69aa7198e6"
      },
      "source": [
        "#coherence of the model with the c_v metric \n",
        "\n",
        "print('Model performance by Perplexity: ', np.around(LDA_Model.log_perplexity(corpus),2))  \n",
        "\n",
        "Coherence_LDA_Model = CoherenceModel(model=LDA_Model, texts=TokenizeReviews, dictionary=WordID, coherence='c_v')\n",
        "Coherence_LDA = Coherence_LDA_Model.get_coherence()\n",
        "print('Coherence Score: ', np.around(Coherence_LDA,2))"
      ],
      "execution_count": 26,
      "outputs": [
        {
          "output_type": "stream",
          "text": [
            "Model performance by Perplexity:  -7.35\n",
            "Coherence Score:  0.39\n"
          ],
          "name": "stdout"
        }
      ]
    },
    {
      "cell_type": "code",
      "metadata": {
        "id": "rNEv5o8S4dlv"
      },
      "source": [
        "train_vecs = []\n",
        "for i in range(len(TokenizeReviews)):\n",
        "    top_topics = LDA_Model.get_document_topics(corpus[i], minimum_probability=0.0)\n",
        "    topic_vec = [top_topics[i][1] for i in range(12)]\n",
        "    train_vecs.append(topic_vec)"
      ],
      "execution_count": 27,
      "outputs": []
    },
    {
      "cell_type": "code",
      "metadata": {
        "colab": {
          "base_uri": "https://localhost:8080/"
        },
        "id": "5mEx0gO24dgt",
        "outputId": "469a49a2-e7ff-4175-9ed1-2326020283fd"
      },
      "source": [
        "train_vecs[0]"
      ],
      "execution_count": 28,
      "outputs": [
        {
          "output_type": "execute_result",
          "data": {
            "text/plain": [
              "[0.041749276,\n",
              " 0.026413478,\n",
              " 0.066789,\n",
              " 0.057074215,\n",
              " 0.3104785,\n",
              " 0.24485344,\n",
              " 0.01939744,\n",
              " 0.06028511,\n",
              " 0.0252962,\n",
              " 0.06437967,\n",
              " 0.033413175,\n",
              " 0.04987044]"
            ]
          },
          "metadata": {
            "tags": []
          },
          "execution_count": 28
        }
      ]
    },
    {
      "cell_type": "markdown",
      "metadata": {
        "id": "lbhBcIZ-Bcwb"
      },
      "source": [
        "Create a topic model using LDA with what you think is the optimal number of topics"
      ]
    },
    {
      "cell_type": "code",
      "metadata": {
        "id": "Ko1uRcA2c-2X"
      },
      "source": [
        "lda_model = gensim.models.ldamodel.LdaModel(corpus=corpus,id2word=WordID,num_topics = 7,random_state=100,update_every=1,\n",
        "                                           chunksize=100,passes=10,alpha='auto',per_word_topics=True)"
      ],
      "execution_count": 29,
      "outputs": []
    },
    {
      "cell_type": "code",
      "metadata": {
        "colab": {
          "base_uri": "https://localhost:8080/"
        },
        "id": "WJ643v2Hc-0h",
        "outputId": "d3bca697-7274-4754-94d4-a90a933839a9"
      },
      "source": [
        "#Print out the top terms for each topic.\n",
        "\n",
        "pprint(lda_model.print_topics())\n",
        "doc_lda = lda_model[corpus]"
      ],
      "execution_count": 30,
      "outputs": [
        {
          "output_type": "stream",
          "text": [
            "[(0,\n",
            "  '0.098*\"i\" + 0.041*\"lenovo\" + 0.029*\"note\" + 0.029*\"my\" + 0.024*\"was\" + '\n",
            "  '0.023*\"k8\" + 0.022*\"from\" + 0.019*\"amazon\" + 0.015*\"am\" + 0.015*\"will\"'),\n",
            " (1,\n",
            "  '0.041*\"low\" + 0.035*\"excellent\" + 0.023*\"should\" + 0.021*\"light\" + '\n",
            "  '0.018*\"fine\" + 0.015*\"till\" + 0.014*\"down\" + 0.013*\"expected\" + '\n",
            "  '0.011*\"side\" + 0.011*\"notification\"'),\n",
            " (2,\n",
            "  '0.066*\"battery\" + 0.057*\"mobile\" + 0.031*\"problem\" + 0.031*\"heating\" + '\n",
            "  '0.027*\"charging\" + 0.025*\"nice\" + 0.022*\"up\" + 0.021*\"issue\" + 0.018*\"fast\" '\n",
            "  '+ 0.018*\"time\"'),\n",
            " (3,\n",
            "  '0.063*\"best\" + 0.052*\"awesome\" + 0.047*\"by\" + 0.036*\"days\" + '\n",
            "  '0.022*\"delivery\" + 0.018*\"out\" + 0.017*\"amazing\" + 0.016*\"satisfied\" + '\n",
            "  '0.015*\"missing\" + 0.011*\"charged\"'),\n",
            " (4,\n",
            "  '0.051*\"phone\" + 0.049*\"the\" + 0.041*\"and\" + 0.035*\"this\" + 0.033*\"to\" + '\n",
            "  '0.029*\"in\" + 0.029*\"it\" + 0.025*\"for\" + 0.025*\"a\" + 0.021*\"of\"'),\n",
            " (5,\n",
            "  '0.180*\"is\" + 0.102*\"not\" + 0.087*\"good\" + 0.060*\"very\" + 0.058*\"camera\" + '\n",
            "  '0.033*\"product\" + 0.025*\"quality\" + 0.024*\"but\" + 0.021*\"working\" + '\n",
            "  '0.016*\"bad\"'),\n",
            " (6,\n",
            "  '0.046*\"network\" + 0.018*\"h\" + 0.017*\"4g\" + 0.017*\"hai\" + 0.015*\"glass\" + '\n",
            "  '0.015*\"set\" + 0.011*\"gorilla\" + 0.010*\"ho\" + 0.009*\"contact\" + 0.009*\"pls\"')]\n"
          ],
          "name": "stdout"
        }
      ]
    },
    {
      "cell_type": "code",
      "metadata": {
        "colab": {
          "base_uri": "https://localhost:8080/"
        },
        "id": "RqqBWCIJehf5",
        "outputId": "5596a6f3-5c4f-402a-a223-f5176231bffe"
      },
      "source": [
        "# coherence of the model with the c_v metric \n",
        "\n",
        "print('Model performance by Perplexity: ',np.around( lda_model.log_perplexity(corpus),2))  \n",
        "\n",
        "coherence_model_lda = CoherenceModel(model=lda_model, texts=TokenizeReviews, dictionary=WordID, coherence='c_v')\n",
        "coherence_lda = coherence_model_lda.get_coherence()\n",
        "print('Coherence Score: ', np.around(coherence_lda,2))"
      ],
      "execution_count": 31,
      "outputs": [
        {
          "output_type": "stream",
          "text": [
            "Model performance by Perplexity:  -7.1\n",
            "Coherence Score:  0.44\n"
          ],
          "name": "stdout"
        }
      ]
    },
    {
      "cell_type": "code",
      "metadata": {
        "id": "13s2FaA8plc5"
      },
      "source": [
        ""
      ],
      "execution_count": null,
      "outputs": []
    }
  ]
}